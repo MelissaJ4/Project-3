{
 "cells": [
  {
   "cell_type": "code",
   "execution_count": null,
   "id": "c99f1b09-d5cf-4b24-9e6b-daa66ea13e6f",
   "metadata": {},
   "outputs": [],
   "source": [
    "# Dependencies\n",
    "import schedule\n",
    "import time"
   ]
  },
  {
   "cell_type": "code",
   "execution_count": null,
   "id": "dfb6c82a-0082-4d31-9a27-800a306af020",
   "metadata": {},
   "outputs": [],
   "source": [
    "# at the start of the code add this line\n",
    "def job():\n",
    "    print(\"I'm working...\") # add api call here\n",
    "\n",
    "\n",
    "\n",
    "\n",
    "\n",
    "\n",
    "\n",
    "# at the end of the code add this block\n",
    "schedule.every(3).seconds.do(job) # you can use this to test and then update with the code on the next line\n",
    "\n",
    "#schedule.every(1).hours.do(job)\n",
    "\n",
    "while True:\n",
    "    schedule.run_pending()\n",
    "    time.sleep(1)"
   ]
  },
  {
   "cell_type": "code",
   "execution_count": null,
   "id": "3cf870ff-ab35-446d-b1be-4a35d2ad7053",
   "metadata": {},
   "outputs": [],
   "source": []
  }
 ],
 "metadata": {
  "kernelspec": {
   "display_name": "Python 3 (ipykernel)",
   "language": "python",
   "name": "python3"
  },
  "language_info": {
   "codemirror_mode": {
    "name": "ipython",
    "version": 3
   },
   "file_extension": ".py",
   "mimetype": "text/x-python",
   "name": "python",
   "nbconvert_exporter": "python",
   "pygments_lexer": "ipython3",
   "version": "3.10.14"
  }
 },
 "nbformat": 4,
 "nbformat_minor": 5
}
