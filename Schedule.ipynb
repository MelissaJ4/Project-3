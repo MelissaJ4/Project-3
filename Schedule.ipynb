{
 "cells": [
  {
   "cell_type": "markdown",
   "id": "0b2b4e7a-85f2-4d0e-bb11-a9f5c9f05311",
   "metadata": {},
   "source": [
    "# Scheduler\n",
    "\n",
    "## Main Functions\n",
    "- collect_weather(): every hour\n",
    "- collect_aircraft(): every 24 hours\n",
    "- collect_flight_data(): every hour"
   ]
  },
  {
   "cell_type": "code",
   "execution_count": 1,
   "id": "c99f1b09-d5cf-4b24-9e6b-daa66ea13e6f",
   "metadata": {},
   "outputs": [],
   "source": [
    "# Dependencies\n",
    "import schedule\n",
    "import time"
   ]
  },
  {
   "cell_type": "code",
   "execution_count": 2,
   "id": "dfb6c82a-0082-4d31-9a27-800a306af020",
   "metadata": {},
   "outputs": [
    {
     "name": "stdout",
     "output_type": "stream",
     "text": [
      "I'm working...\n",
      "I'm working...\n",
      "I'm working...\n",
      "I'm working...\n",
      "I'm working...\n"
     ]
    },
    {
     "ename": "KeyboardInterrupt",
     "evalue": "",
     "output_type": "error",
     "traceback": [
      "\u001b[0;31m---------------------------------------------------------------------------\u001b[0m",
      "\u001b[0;31mKeyboardInterrupt\u001b[0m                         Traceback (most recent call last)",
      "Cell \u001b[0;32mIn[2], line 18\u001b[0m\n\u001b[1;32m     16\u001b[0m \u001b[38;5;28;01mwhile\u001b[39;00m \u001b[38;5;28;01mTrue\u001b[39;00m:\n\u001b[1;32m     17\u001b[0m     schedule\u001b[38;5;241m.\u001b[39mrun_pending()\n\u001b[0;32m---> 18\u001b[0m     \u001b[43mtime\u001b[49m\u001b[38;5;241;43m.\u001b[39;49m\u001b[43msleep\u001b[49m\u001b[43m(\u001b[49m\u001b[38;5;241;43m1\u001b[39;49m\u001b[43m)\u001b[49m\n",
      "\u001b[0;31mKeyboardInterrupt\u001b[0m: "
     ]
    }
   ],
   "source": [
    "# at the start of the code add this line\n",
    "def job():\n",
    "    print(\"I'm working at the top of the hour!!\") # add api call here\n",
    "\n",
    "# at the end of the code add this block\n",
    "#schedule.every(3).seconds.do(job) # you can use this to test and then update with the code on the next line\n",
    "\n",
    "#schedule.every(1).hours.do(job)\n",
    "\n",
    "# run the 'job' function at the top of every hour\n",
    "schedule.every().hour.at(':00').do(job)\n",
    "\n",
    "while True:\n",
    "    schedule.run_pending()\n",
    "    time.sleep(1)"
   ]
  },
  {
   "cell_type": "code",
   "execution_count": null,
   "id": "3cf870ff-ab35-446d-b1be-4a35d2ad7053",
   "metadata": {},
   "outputs": [],
   "source": []
  }
 ],
 "metadata": {
  "kernelspec": {
   "display_name": "Python 3 (ipykernel)",
   "language": "python",
   "name": "python3"
  },
  "language_info": {
   "codemirror_mode": {
    "name": "ipython",
    "version": 3
   },
   "file_extension": ".py",
   "mimetype": "text/x-python",
   "name": "python",
   "nbconvert_exporter": "python",
   "pygments_lexer": "ipython3",
   "version": "3.12.4"
  }
 },
 "nbformat": 4,
 "nbformat_minor": 5
}
