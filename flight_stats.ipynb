{
 "cells": [
  {
   "cell_type": "code",
   "execution_count": 2,
   "id": "dbbdcc15-7f5e-4da1-a437-e6363ffb1469",
   "metadata": {},
   "outputs": [],
   "source": [
    "import requests\n",
    "import json\n",
    "from api_keys import weather_api_key\n",
    "import requests\n",
    "import pandas as pd\n",
    "import numpy as np\n",
    "from pprint import pprint\n",
    "from datetime import datetime, timezone\n",
    "import time"
   ]
  },
  {
   "cell_type": "markdown",
   "id": "41bee645-a6c2-4fae-8daa-e8fe560718cd",
   "metadata": {},
   "source": [
    "```\n",
    "$ curl -u \"USERNAME:PASSWORD\" -s \"https://opensky-network.org/api/flights/arrival?airport=EDDF&begin=1517227200&end=1517230800\" | python -m json.tool\n",
    "```"
   ]
  },
  {
   "cell_type": "code",
   "execution_count": 3,
   "id": "ce3f6e3d-2299-4e20-9d39-b4f924dfc7a5",
   "metadata": {},
   "outputs": [],
   "source": [
    "def datetime_to_unix(dt):\n",
    "    return time.mktime(dt.timetuple())"
   ]
  },
  {
   "cell_type": "code",
   "execution_count": 4,
   "id": "c94ef19d-d919-4c4d-8f59-e9a87987695e",
   "metadata": {},
   "outputs": [],
   "source": [
    "airport = 'KMSP'\n",
    "\n",
    "start_time = datetime(2024, 7, 15, 0, 0)\n",
    "end_time = datetime(2024, 7, 15, 23, 59)\n",
    "\n",
    "start_ts = datetime_to_unix(start_time)\n",
    "end_ts = datetime_to_unix(end_time)\n",
    "\n",
    "url = f\"https://opensky-network.org/api/flights/arrival?airport={airport}&begin={start_ts}&end={end_ts}\""
   ]
  }
 ],
 "metadata": {
  "kernelspec": {
   "display_name": "Python 3 (ipykernel)",
   "language": "python",
   "name": "python3"
  },
  "language_info": {
   "codemirror_mode": {
    "name": "ipython",
    "version": 3
   },
   "file_extension": ".py",
   "mimetype": "text/x-python",
   "name": "python",
   "nbconvert_exporter": "python",
   "pygments_lexer": "ipython3",
   "version": "3.12.4"
  }
 },
 "nbformat": 4,
 "nbformat_minor": 5
}
