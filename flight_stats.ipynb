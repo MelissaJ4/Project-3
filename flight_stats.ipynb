{
 "cells": [
  {
   "cell_type": "markdown",
   "id": "666a8bb9-f60c-4afd-8b52-e0bfe2192f8b",
   "metadata": {},
   "source": [
    "# Flight Data Collector"
   ]
  },
  {
   "cell_type": "markdown",
   "id": "02f0c843-ccd5-4eb2-94ae-dec9619d4653",
   "metadata": {},
   "source": [
    "## Imports"
   ]
  },
  {
   "cell_type": "code",
   "execution_count": 1,
   "id": "dbbdcc15-7f5e-4da1-a437-e6363ffb1469",
   "metadata": {},
   "outputs": [],
   "source": [
    "import requests\n",
    "import json\n",
    "import requests\n",
    "import pandas as pd\n",
    "import numpy as np\n",
    "from pprint import pprint\n",
    "from datetime import datetime, timezone, timedelta\n",
    "import time"
   ]
  },
  {
   "cell_type": "markdown",
   "id": "b1144559-6314-4783-abcb-e10dde71806b",
   "metadata": {},
   "source": [
    "### opensky_api module setup"
   ]
  },
  {
   "cell_type": "code",
   "execution_count": 2,
   "id": "f768666d-c73b-4c95-a869-bf51a691c059",
   "metadata": {},
   "outputs": [],
   "source": [
    "from opensky_api import OpenSkyApi\n",
    "from config import opensky_user, opensky_pass"
   ]
  },
  {
   "cell_type": "markdown",
   "id": "a436ab68-bd6d-4dac-884a-88b9d1942f5e",
   "metadata": {},
   "source": [
    "## Supporting Functions"
   ]
  },
  {
   "cell_type": "code",
   "execution_count": 3,
   "id": "ce3f6e3d-2299-4e20-9d39-b4f924dfc7a5",
   "metadata": {},
   "outputs": [],
   "source": [
    "def datetime_to_unix(dt):\n",
    "    return int(time.mktime(dt.timetuple()))"
   ]
  },
  {
   "cell_type": "markdown",
   "id": "5ba7caed-3a46-46ef-b9a8-ac763facdddc",
   "metadata": {},
   "source": [
    "## Connect to OpenSky API"
   ]
  },
  {
   "cell_type": "code",
   "execution_count": 5,
   "id": "e68a27f6-da6c-4bba-a117-ba9b80bac58b",
   "metadata": {},
   "outputs": [],
   "source": [
    "api = OpenSkyApi(opensky_user, opensky_pass)"
   ]
  },
  {
   "cell_type": "markdown",
   "id": "03fd5acf-9863-46f5-9254-31dd6bcaa4a9",
   "metadata": {},
   "source": [
    "## Collect Flight Data and Trajectories"
   ]
  },
  {
   "cell_type": "code",
   "execution_count": 6,
   "id": "f08c1375-8cf0-495d-810a-66ffd3baf276",
   "metadata": {},
   "outputs": [
    {
     "name": "stdout",
     "output_type": "stream",
     "text": [
      "2024-07-18 10:54:17.746245\n",
      "2024-07-18 09:54:17.746245\n",
      "1721314457\n",
      "1721318057\n",
      "\n",
      "Unique aircraft identifiers arriving or departing MSP\n",
      "['a1863b', 'a3ed69', 'acd2d3', 'acaf0b', 'a25cdc', 'a3f4d7', 'a4077d', 'a39ac7', 'a41144', 'a8fd5a', 'a7e18a', 'aa60da', 'a33afa', 'abc91f', 'ade548', 'adc180', 'abbf49', 'ac2c9c', 'a39723', 'a2355d', 'a359bc', 'ad4395', 'a7d2ae', 'a369be', 'ac1466', 'abe1c2', 'abe3c8', 'a022c6', 'a305fd', 'a39d95', 'abf09e', 'a34dbf', 'a37aa3', 'ac85ce']\n"
     ]
    }
   ],
   "source": [
    "# collect unique ICAO transponder addresses per airport\n",
    "\n",
    "airports = ['KMSP']\n",
    "\n",
    "now = datetime.now()\n",
    "one_hour_ago = now - timedelta(hours=1)\n",
    "print(now)\n",
    "print(one_hour_ago)\n",
    "\n",
    "start_ts = datetime_to_unix(one_hour_ago)\n",
    "end_ts = datetime_to_unix(now)\n",
    "print(start_ts)\n",
    "print(end_ts)\n",
    "\n",
    "unique_icao_addresses = []\n",
    "\n",
    "for airport in airports:\n",
    "    arrivals = api.get_arrivals_by_airport(airport, start_ts, end_ts)\n",
    "    departures = api.get_departures_by_airport(airport, start_ts, end_ts)\n",
    "\n",
    "    # get unique arrival aircraft\n",
    "    if arrivals is not None:\n",
    "        for flight in arrivals:\n",
    "            if flight.icao24 not in unique_icao_addresses:\n",
    "                unique_icao_addresses.append(flight.icao24)\n",
    "\n",
    "    # get unique departure aircraft\n",
    "    if departures is not None:\n",
    "        for flight in departures:\n",
    "            if flight.icao24 not in unique_icao_addresses:\n",
    "                unique_icao_addresses.append(flight.icao24)\n",
    "\n",
    "print()\n",
    "print('Unique aircraft identifiers arriving or departing MSP')\n",
    "print(unique_icao_addresses)"
   ]
  },
  {
   "cell_type": "markdown",
   "id": "c94d4e28-85a9-4fe4-8b3e-7246072a2156",
   "metadata": {},
   "source": [
    "### Collect flight data\n",
    "\n",
    "Returns 'FlightData' type:\n",
    "\n",
    "Class that represents data of certain flight. It has the following fields:\n",
    "\n",
    "- icao24: str - Unique ICAO 24-bit address of the transponder in hex string representation. All letters are lower case.\n",
    "- firstSeen: int - Estimated time of departure for the flight as Unix time (seconds since epoch).\n",
    "estDepartureAirport: str - ICAO code of the estimated departure airport. Can be null if the airport could not be identified.\n",
    "- lastSeen: int - Estimated time of arrival for the flight as Unix time (seconds since epoch).\n",
    "estArrivalAirport: str - ICAO code of the estimated arrival airport. Can be null if the airport could not be identified.\n",
    "- callsign: str - Callsign of the vehicle (8 chars). Can be null if no callsign has been received. If the vehicle transmits multiple callsigns during the flight, we take the one seen most frequently.\n",
    "- estDepartureAirportHorizDistance: int - Horizontal distance of the last received airborne position to the estimated departure airport in meters.\n",
    "- estDepartureAirportVertDistance: int - Vertical distance of the last received airborne position to the estimated departure airport in meters.\n",
    "- estArrivalAirportHorizDistance: int - Horizontal distance of the last received airborne position to the estimated arrival airport in meters.\n",
    "- estArrivalAirportVertDistance: int - Vertical distance of the last received airborne position to the estimated arrival airport in meters.\n",
    "- departureAirportCandidatesCount: int - Number of other possible departure airports. These are airports in short distance to estDepartureAirport.\n",
    "- arrivalAirportCandidatesCount: int - Number of other possible departure airports.\n"
   ]
  },
  {
   "cell_type": "code",
   "execution_count": 55,
   "id": "86e4ea1a-630a-4d06-a3c2-e5ab3136b8f2",
   "metadata": {},
   "outputs": [
    {
     "name": "stdout",
     "output_type": "stream",
     "text": [
      "None\n",
      "None\n"
     ]
    }
   ],
   "source": [
    "# collect flight data for each aircraft (by unique ICAO transponder address)\n",
    "\n",
    "# temporary - limit search by two aircraft\n",
    "unique_icao_addresses = ['a65092', 'a327a4']\n",
    "\n",
    "for icao in unique_icao_addresses:\n",
    "    flight_data = api.get_flights_by_aircraft(icao, start_ts, end_ts)\n",
    "    print(flight_data)"
   ]
  },
  {
   "cell_type": "markdown",
   "id": "c4905afa-759d-40eb-945e-0c12512d75ee",
   "metadata": {},
   "source": [
    "### Collect state vectors\n",
    "\n",
    "Returns 'StateVector' type:\n",
    "\n",
    "Represents the state of a vehicle at a particular time. It has the following fields:\n",
    "\n",
    "- icao24: str - ICAO24 address of the transmitter in hex string representation.\n",
    "- callsign: str - callsign of the vehicle. Can be None if no callsign has been received.\n",
    "- origin_country: str - inferred through the ICAO24 address.\n",
    "- time_position: int - seconds since epoch of last position report. Can be None if there was no position report received by OpenSky within 15s before.\n",
    "- last_contact: int - seconds since epoch of last received message from this transponder.\n",
    "- longitude: float - in ellipsoidal coordinates (WGS-84) and degrees. Can be None.\n",
    "- latitude: float - in ellipsoidal coordinates (WGS-84) and degrees. Can be None.\n",
    "- geo_altitude: float - geometric altitude in meters. Can be None.\n",
    "- on_ground: bool - true if aircraft is on ground (sends ADS-B surface position reports).\n",
    "- velocity: float - over ground in m/s. Can be None if information not present.\n",
    "- true_track: float - in decimal degrees (0 is north). Can be None if information not present.\n",
    "- vertical_rate: float - in m/s, incline is positive, decline negative. Can be None if information not present.\n",
    "- sensors: list [int] - serial numbers of sensors which received messages from the vehicle within the validity period of this state vector. Can be None if no filtering for sensor has been requested.\n",
    "- baro_altitude: float - barometric altitude in meters. Can be None.\n",
    "- squawk: str - transponder code aka Squawk. Can be None.\n",
    "- spi: bool - special purpose indicator.\n",
    "- position_source: int - origin of this state’s position: 0 = ADS-B, 1 = ASTERIX, 2 = MLAT, 3 = FLARM\n",
    "- category: int - aircraft category: 0 = No information at all, 1 = No ADS-B Emitter Category Information, 2 = Light (< 15500 lbs), 3 = Small (15500 to 75000 lbs), 4 = Large (75000 to 300000 lbs), 5 = High Vortex Large (aircraft such as B-757), 6 = Heavy (> 300000 lbs), 7 = High Performance (> 5g acceleration and 400 kts), 8 = Rotorcraft, 9 = Glider / sailplane, 10 = Lighter-than-air, 11 = Parachutist / Skydiver, 12 = Ultralight / hang-glider / paraglider, 13 = Reserved, 14 = Unmanned Aerial Vehicle, 15 = Space / Trans-atmospheric vehicle, 16 = Surface Vehicle – Emergency Vehicle, 17 = Surface Vehicle – Service Vehicle, 18 = Point Obstacle (includes tethered balloons), 19 = Cluster Obstacle, 20 = Line Obstacle.\n"
   ]
  },
  {
   "cell_type": "code",
   "execution_count": 53,
   "id": "b03d3f62-e35b-4af8-8b67-d71631c89c23",
   "metadata": {},
   "outputs": [
    {
     "name": "stdout",
     "output_type": "stream",
     "text": [
      "{   'states': [   StateVector(dict_values(['a65092', 'DAL1484 ', 'United States', 1721182737, 1721182737, -93.0946, 44.9517, 3177.54, False, 167.98, 120.96, 5.85, None, 3246.12, None, False, 0, 0]))],\n",
      "    'time': 1721182737}\n",
      "None\n"
     ]
    }
   ],
   "source": [
    "# collect \"state vectors\" for each aircraft (by unique ICAO transponder address)\n",
    "\n",
    "# temporary - limit search by two aircraft\n",
    "unique_icao_addresses = ['a65092', 'a327a4']\n",
    "\n",
    "for icao in unique_icao_addresses:\n",
    "    state_data = api.get_states(icao24=icao)\n",
    "    print(state_data)"
   ]
  },
  {
   "cell_type": "markdown",
   "id": "7469725e-e0d1-4d5e-8972-4a644483d062",
   "metadata": {},
   "source": [
    "### Collect trajectory data\n",
    "\n",
    "Returns both 'FlightTrack' and 'Waypoint' data types:\n",
    "\n",
    "FlightTrack\n",
    "Class that represents the trajectory for a certain aircraft at a given time.:\n",
    "- icao24: str - Unique ICAO 24-bit address of the transponder in lower case hex string representation.\n",
    "- startTime: int - Time of the first waypoint in seconds since epoch (Unix time).\n",
    "- endTime: int - Time of the last waypoint in seconds since epoch (Unix time).\n",
    "- calllsign: str - Callsign (8 characters) that holds for the whole track. Can be null.\n",
    "- path: list [Waypoint] - waypoints of the trajectory.\n",
    "\n",
    "Waypoint\n",
    "Class that represents the single waypoint that is a basic part of flight trajectory:\n",
    "- time: int - Time which the given waypoint is associated with in seconds since epoch (Unix time).\n",
    "- latitude: float - WGS-84 latitude in decimal degrees. Can be null.\n",
    "- longitude: float - WGS-84 longitude in decimal degrees. Can be null.\n",
    "- baro_altitude: float - Barometric altitude in meters. Can be null.\n",
    "- true_track: float - True track in decimal degrees clockwise from north (north=0°). Can be null.\n",
    "- on_ground: bool - Boolean value which indicates if the position was retrieved from a surface position report."
   ]
  },
  {
   "cell_type": "code",
   "execution_count": 54,
   "id": "1c30e588-996e-439f-9a8f-9c3d3cad902f",
   "metadata": {},
   "outputs": [
    {
     "name": "stdout",
     "output_type": "stream",
     "text": [
      "{   'callsign': 'DAL1484 ',\n",
      "    'endTime': 1721182840.0,\n",
      "    'icao24': 'a65092',\n",
      "    'path': [   [1721182494, 44.8764, -93.2079, 0, 301, False],\n",
      "                [1721182510, 44.8819, -93.2205, 0, 301, False],\n",
      "                [1721182524, 44.8875, -93.2338, 304, 300, False],\n",
      "                [1721182554, 44.8996, -93.2637, 609, 300, False],\n",
      "                [1721182559, 44.9023, -93.2697, 609, 304, False],\n",
      "                [1721182564, 44.9055, -93.2751, 914, 312, False],\n",
      "                [1721182569, 44.9089, -93.2794, 914, 321, False],\n",
      "                [1721182574, 44.9135, -93.2834, 914, 332, False],\n",
      "                [1721182579, 44.9187, -93.2862, 914, 342, False],\n",
      "                [1721182584, 44.924, -93.2877, 914, 352, False],\n",
      "                [1721182589, 44.9299, -93.2883, 914, 358, False],\n",
      "                [1721182594, 44.9356, -93.2881, 914, 2, False],\n",
      "                [1721182608, 44.9521, -93.2868, 1219, 3, False],\n",
      "                [1721182613, 44.9583, -93.2862, 1219, 4, False],\n",
      "                [1721182618, 44.9641, -93.2849, 1524, 10, False],\n",
      "                [1721182622, 44.9684, -93.2832, 1524, 17, False],\n",
      "                [1721182627, 44.9739, -93.2798, 1524, 27, False],\n",
      "                [1721182631, 44.9784, -93.2757, 1524, 34, False],\n",
      "                [1721182636, 44.9831, -93.2701, 1828, 44, False],\n",
      "                [1721182641, 44.9875, -93.2628, 1828, 52, False],\n",
      "                [1721182646, 44.9905, -93.2561, 1828, 60, False],\n",
      "                [1721182651, 44.9935, -93.2471, 1828, 66, False],\n",
      "                [1721182656, 44.9958, -93.2382, 1828, 73, False],\n",
      "                [1721182660, 44.9969, -93.2309, 2133, 79, False],\n",
      "                [1721182666, 44.9974, -93.2206, 2133, 89, False],\n",
      "                [1721182670, 44.9971, -93.2126, 2133, 96, False],\n",
      "                [1721182676, 44.9952, -93.2004, 2133, 106, False],\n",
      "                [1721182680, 44.9936, -93.1941, 2438, 111, False],\n",
      "                [1721182685, 44.9908, -93.1852, 2438, 115, False],\n",
      "                [1721182690, 44.9876, -93.1765, 2438, 118, False],\n",
      "                [1721182695, 44.9838, -93.1673, 2438, 121, False],\n",
      "                [1721182723, 44.9625, -93.12, 2743, 121, False],\n",
      "                [1721182765, 44.9287, -93.0411, 3048, 121, False],\n",
      "                [1721182803, 44.8932, -92.9605, 3352, 121, False],\n",
      "                [1721182835, 44.8626, -92.8912, 3657, 122, False],\n",
      "                [1721182840, 44.8578, -92.8804, 3962, 122, False]],\n",
      "    'startTime': 1721182494.0}\n",
      "{   'callsign': 'N302KC  ',\n",
      "    'endTime': 1721182844.0,\n",
      "    'icao24': 'a327a4',\n",
      "    'path': [   [1721182404, 44.8765, -93.2081, 0, 301, False],\n",
      "                [1721182415, 44.88, -93.2162, 0, 301, False],\n",
      "                [1721182429, 44.8856, -93.2292, 304, 300, False],\n",
      "                [1721182450, 44.8942, -93.2499, 609, 299, False],\n",
      "                [1721182455, 44.8961, -93.2556, 914, 294, False],\n",
      "                [1721182460, 44.8974, -93.2621, 914, 282, False],\n",
      "                [1721182465, 44.8979, -93.2694, 914, 273, False],\n",
      "                [1721182469, 44.8974, -93.2765, 1219, 261, False],\n",
      "                [1721182474, 44.8963, -93.284, 1219, 257, False],\n",
      "                [1721182480, 44.8949, -93.2922, 1219, 255, False],\n",
      "                [1721182495, 44.8905, -93.3169, 1524, 256, False],\n",
      "                [1721182518, 44.8844, -93.3545, 1828, 256, False],\n",
      "                [1721182538, 44.8789, -93.3882, 2133, 256, False],\n",
      "                [1721182553, 44.8744, -93.4145, 2438, 255, False],\n",
      "                [1721182558, 44.8724, -93.4228, 2743, 250, False],\n",
      "                [1721182563, 44.8696, -93.4315, 2743, 243, False],\n",
      "                [1721182569, 44.8659, -93.4392, 2743, 235, False],\n",
      "                [1721182573, 44.8616, -93.446, 3048, 225, False],\n",
      "                [1721182579, 44.8564, -93.4521, 3048, 217, False],\n",
      "                [1721182584, 44.8506, -93.4573, 3048, 209, False],\n",
      "                [1721182589, 44.8443, -93.4614, 3352, 203, False],\n",
      "                [1721182593, 44.8375, -93.4644, 3352, 195, False],\n",
      "                [1721182599, 44.8299, -93.4661, 3352, 187, False],\n",
      "                [1721182602, 44.8243, -93.4663, 3657, 179, False],\n",
      "                [1721182607, 44.8163, -93.4651, 3657, 172, False],\n",
      "                [1721182613, 44.8084, -93.4622, 3657, 162, False],\n",
      "                [1721182618, 44.801, -93.4578, 3657, 155, False],\n",
      "                [1721182622, 44.7949, -93.4529, 3962, 148, False],\n",
      "                [1721182626, 44.7888, -93.4464, 3962, 141, False],\n",
      "                [1721182631, 44.7833, -93.4392, 3962, 135, False],\n",
      "                [1721182635, 44.7778, -93.43, 3962, 129, False],\n",
      "                [1721182640, 44.7728, -93.4197, 3962, 123, False],\n",
      "                [1721182646, 44.7681, -93.409, 4267, 121, False],\n",
      "                [1721182655, 44.759, -93.3873, 4267, 120, False],\n",
      "                [1721182670, 44.7453, -93.3563, 4572, 121, False],\n",
      "                [1721182684, 44.731, -93.324, 4876, 121, False],\n",
      "                [1721182703, 44.7123, -93.2817, 5181, 121, False],\n",
      "                [1721182723, 44.6933, -93.2388, 5486, 121, False],\n",
      "                [1721182746, 44.6701, -93.186, 5791, 121, False],\n",
      "                [1721182764, 44.6505, -93.1414, 6096, 121, False],\n",
      "                [1721182788, 44.6248, -93.0833, 6400, 121, False],\n",
      "                [1721182811, 44.5998, -93.0267, 6705, 121, False],\n",
      "                [1721182835, 44.574, -92.9684, 7010, 121, False],\n",
      "                [1721182844, 44.5638, -92.9452, 7315, 121, False]],\n",
      "    'startTime': 1721182404.0}\n"
     ]
    }
   ],
   "source": [
    "# collect trajectory for each aircraft (by unique ICAO transponder address)\n",
    "\n",
    "# temporary - limit search by two aircraft\n",
    "unique_icao_addresses = ['a65092', 'a327a4']\n",
    "\n",
    "for icao in unique_icao_addresses:\n",
    "    track_data = api.get_track_by_aircraft(icao24=icao)\n",
    "    print(track_data)"
   ]
  }
 ],
 "metadata": {
  "kernelspec": {
   "display_name": "Python 3 (ipykernel)",
   "language": "python",
   "name": "python3"
  },
  "language_info": {
   "codemirror_mode": {
    "name": "ipython",
    "version": 3
   },
   "file_extension": ".py",
   "mimetype": "text/x-python",
   "name": "python",
   "nbconvert_exporter": "python",
   "pygments_lexer": "ipython3",
   "version": "3.12.4"
  }
 },
 "nbformat": 4,
 "nbformat_minor": 5
}
