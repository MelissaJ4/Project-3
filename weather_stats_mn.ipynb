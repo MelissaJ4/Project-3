{
 "cells": [
  {
   "cell_type": "code",
   "execution_count": 1,
   "id": "e798d073-28ea-4ffe-b52e-b448a86fe6d5",
   "metadata": {},
   "outputs": [],
   "source": [
    "import requests\n",
    "import json\n",
    "from config import weather_api_key\n",
    "import requests\n",
    "import pandas as pd\n",
    "import numpy as np\n",
    "from pprint import pprint\n",
    "from datetime import datetime"
   ]
  },
  {
   "cell_type": "code",
   "execution_count": 2,
   "id": "694ba246-c38a-43f3-ae16-c8e27d551288",
   "metadata": {},
   "outputs": [
    {
     "name": "stdout",
     "output_type": "stream",
     "text": [
      "2024-07-16 20:49:00.368408\n"
     ]
    }
   ],
   "source": [
    "APIkey = weather_api_key\n",
    "\n",
    "# Latitude and longitude of MSP airport\n",
    "lat = 44.8816666667\n",
    "lon = -93.2208333333\n",
    "\n",
    "# set the measurement to metric\n",
    "units = \"metric\"\n",
    "\n",
    "# Set time as api pull\n",
    "current_dateTime = datetime.now()\n",
    "\n",
    "print(current_dateTime)\n",
    "\n",
    "# Save config information.\n",
    "url_weather = f\"http://api.weatherapi.com/v1/current.json?key=1985da2fe2634de19d004617241707&q=55111&aqi=no\"\n",
    "\n"
   ]
  },
  {
   "cell_type": "code",
   "execution_count": 3,
   "id": "216f39fd-69c3-41b1-a60d-ee5ee4f2c581",
   "metadata": {},
   "outputs": [
    {
     "data": {
      "text/plain": [
       "{'location': {'name': 'Saint Paul',\n",
       "  'region': 'Minnesota',\n",
       "  'country': 'USA',\n",
       "  'lat': 44.89,\n",
       "  'lon': -93.19,\n",
       "  'tz_id': 'America/Chicago',\n",
       "  'localtime_epoch': 1721180871,\n",
       "  'localtime': '2024-07-16 20:47'},\n",
       " 'current': {'last_updated_epoch': 1721180700,\n",
       "  'last_updated': '2024-07-16 20:45',\n",
       "  'temp_c': 25.4,\n",
       "  'temp_f': 77.7,\n",
       "  'is_day': 1,\n",
       "  'condition': {'text': 'Partly cloudy',\n",
       "   'icon': '//cdn.weatherapi.com/weather/64x64/day/116.png',\n",
       "   'code': 1003},\n",
       "  'wind_mph': 10.5,\n",
       "  'wind_kph': 16.9,\n",
       "  'wind_degree': 300,\n",
       "  'wind_dir': 'WNW',\n",
       "  'pressure_mb': 1013.0,\n",
       "  'pressure_in': 29.91,\n",
       "  'precip_mm': 0.0,\n",
       "  'precip_in': 0.0,\n",
       "  'humidity': 43,\n",
       "  'cloud': 25,\n",
       "  'feelslike_c': 26.6,\n",
       "  'feelslike_f': 79.8,\n",
       "  'windchill_c': 20.8,\n",
       "  'windchill_f': 69.5,\n",
       "  'heatindex_c': 22.0,\n",
       "  'heatindex_f': 71.7,\n",
       "  'dewpoint_c': 13.2,\n",
       "  'dewpoint_f': 55.7,\n",
       "  'vis_km': 16.0,\n",
       "  'vis_miles': 9.0,\n",
       "  'uv': 6.0,\n",
       "  'gust_mph': 15.0,\n",
       "  'gust_kph': 24.1}}"
      ]
     },
     "execution_count": 3,
     "metadata": {},
     "output_type": "execute_result"
    }
   ],
   "source": [
    "response = requests.get(url_weather).json()\n",
    "    \n",
    "response\n"
   ]
  },
  {
   "cell_type": "code",
   "execution_count": null,
   "id": "b2a68608-36bc-4d7b-b049-e8b899c1dbaa",
   "metadata": {},
   "outputs": [],
   "source": [
    "# To use for dataframe:\n",
    "    # temp c/f\n",
    "    # condition (text)\n",
    "    # wind (mph/kph)\n",
    "    # wind_degree\n",
    "    # wind_dir\n",
    "    # precip (mm, in)\n",
    "    # cloud\n",
    "    # vis (km/miles)\n",
    "    # gust (mph/kph)"
   ]
  },
  {
   "cell_type": "code",
   "execution_count": null,
   "id": "5c7a61f7-35b9-48d3-b40b-59e78c8a39e4",
   "metadata": {},
   "outputs": [],
   "source": []
  }
 ],
 "metadata": {
  "kernelspec": {
   "display_name": "Python 3 (ipykernel)",
   "language": "python",
   "name": "python3"
  },
  "language_info": {
   "codemirror_mode": {
    "name": "ipython",
    "version": 3
   },
   "file_extension": ".py",
   "mimetype": "text/x-python",
   "name": "python",
   "nbconvert_exporter": "python",
   "pygments_lexer": "ipython3",
   "version": "3.11.7"
  }
 },
 "nbformat": 4,
 "nbformat_minor": 5
}
