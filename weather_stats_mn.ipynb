{
 "cells": [
  {
   "cell_type": "code",
   "execution_count": 4,
   "id": "e798d073-28ea-4ffe-b52e-b448a86fe6d5",
   "metadata": {},
   "outputs": [],
   "source": [
    "import requests\n",
    "import json\n",
    "from config import weather_api_key\n",
    "import requests\n",
    "import pandas as pd\n",
    "import numpy as np\n",
    "from pprint import pprint\n",
    "from datetime import datetime"
   ]
  },
  {
   "cell_type": "code",
   "execution_count": 7,
   "id": "3da77f15-cc3c-44bc-ba4b-9edfe941212b",
   "metadata": {},
   "outputs": [
    {
     "name": "stdout",
     "output_type": "stream",
     "text": [
      "2024-07-16 21:21:49.278763\n"
     ]
    }
   ],
   "source": [
    "key = weather_api_key\n",
    "\n",
    "# Zipcode of MSP airport, terminal #1\n",
    "airport_zipcodes = [55111, 55811, 55902]\n",
    "\n",
    "# Zipcode of MSP, terminal #1 = 55111\n",
    "\n",
    "# Zipcode of Duluth airport = 55811\n",
    "\n",
    "# Zipcode for Rochester airport = 55902\n",
    "\n",
    "# Set time as api pull\n",
    "current_dateTime = datetime.now()\n",
    "\n",
    "print(current_dateTime)\n",
    "\n",
    "for q in airport_zipcodes:\n",
    "    print(q)\n",
    "# Save config information.\n",
    "url_weather = f\"http://api.weatherapi.com/v1/current.json?key={key}&q={q}&aqi=no\"\n",
    "\n"
   ]
  },
  {
   "cell_type": "code",
   "execution_count": 8,
   "id": "216f39fd-69c3-41b1-a60d-ee5ee4f2c581",
   "metadata": {},
   "outputs": [
    {
     "data": {
      "text/plain": [
       "{'location': {'name': 'Saint Paul',\n",
       "  'region': 'Minnesota',\n",
       "  'country': 'USA',\n",
       "  'lat': 44.89,\n",
       "  'lon': -93.19,\n",
       "  'tz_id': 'America/Chicago',\n",
       "  'localtime_epoch': 1721182763,\n",
       "  'localtime': '2024-07-16 21:19'},\n",
       " 'current': {'last_updated_epoch': 1721182500,\n",
       "  'last_updated': '2024-07-16 21:15',\n",
       "  'temp_c': 23.9,\n",
       "  'temp_f': 75.0,\n",
       "  'is_day': 0,\n",
       "  'condition': {'text': 'Partly cloudy',\n",
       "   'icon': '//cdn.weatherapi.com/weather/64x64/night/116.png',\n",
       "   'code': 1003},\n",
       "  'wind_mph': 9.4,\n",
       "  'wind_kph': 15.1,\n",
       "  'wind_degree': 300,\n",
       "  'wind_dir': 'WNW',\n",
       "  'pressure_mb': 1013.0,\n",
       "  'pressure_in': 29.92,\n",
       "  'precip_mm': 0.0,\n",
       "  'precip_in': 0.0,\n",
       "  'humidity': 48,\n",
       "  'cloud': 50,\n",
       "  'feelslike_c': 25.5,\n",
       "  'feelslike_f': 77.9,\n",
       "  'windchill_c': 19.7,\n",
       "  'windchill_f': 67.4,\n",
       "  'heatindex_c': 20.3,\n",
       "  'heatindex_f': 68.5,\n",
       "  'dewpoint_c': 12.7,\n",
       "  'dewpoint_f': 54.8,\n",
       "  'vis_km': 16.0,\n",
       "  'vis_miles': 9.0,\n",
       "  'uv': 1.0,\n",
       "  'gust_mph': 10.2,\n",
       "  'gust_kph': 16.4}}"
      ]
     },
     "execution_count": 8,
     "metadata": {},
     "output_type": "execute_result"
    }
   ],
   "source": [
    "response = requests.get(url_weather).json()\n",
    "    \n",
    "response\n"
   ]
  },
  {
   "cell_type": "code",
   "execution_count": null,
   "id": "b2a68608-36bc-4d7b-b049-e8b899c1dbaa",
   "metadata": {},
   "outputs": [],
   "source": [
    "# To use for dataframe:\n",
    "    # temp c/f\n",
    "    # condition (text)\n",
    "    # wind (mph/kph)\n",
    "    # wind_degree\n",
    "    # wind_dir\n",
    "    # precip (mm, in)\n",
    "    # cloud\n",
    "    # vis (km/miles)\n",
    "    # gust (mph/kph)"
   ]
  },
  {
   "cell_type": "code",
   "execution_count": null,
   "id": "5c7a61f7-35b9-48d3-b40b-59e78c8a39e4",
   "metadata": {},
   "outputs": [],
   "source": []
  }
 ],
 "metadata": {
  "kernelspec": {
   "display_name": "Python 3 (ipykernel)",
   "language": "python",
   "name": "python3"
  },
  "language_info": {
   "codemirror_mode": {
    "name": "ipython",
    "version": 3
   },
   "file_extension": ".py",
   "mimetype": "text/x-python",
   "name": "python",
   "nbconvert_exporter": "python",
   "pygments_lexer": "ipython3",
   "version": "3.11.7"
  }
 },
 "nbformat": 4,
 "nbformat_minor": 5
}
