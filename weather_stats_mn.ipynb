{
 "cells": [
  {
   "cell_type": "code",
   "execution_count": 70,
   "id": "e798d073-28ea-4ffe-b52e-b448a86fe6d5",
   "metadata": {},
   "outputs": [],
   "source": [
    "import requests\n",
    "import json\n",
    "from config import weather_api_key\n",
    "import requests\n",
    "import pandas as pd\n",
    "import numpy as np\n",
    "from pprint import pprint\n",
    "from datetime import datetime"
   ]
  },
  {
   "cell_type": "code",
   "execution_count": 71,
   "id": "694ba246-c38a-43f3-ae16-c8e27d551288",
   "metadata": {},
   "outputs": [
    {
     "name": "stdout",
     "output_type": "stream",
     "text": [
      "2024-07-15 21:15:58.435176\n"
     ]
    }
   ],
   "source": [
    "APIkey = weather_api_key\n",
    "\n",
    "# Latitude and longitude of MSP airport\n",
    "lat = 44.8816666667\n",
    "lon = -93.2208333333\n",
    "\n",
    "# set the measurement to metric\n",
    "units = \"metric\"\n",
    "\n",
    "# Set time as api pull\n",
    "current_dateTime = datetime.now()\n",
    "\n",
    "print(current_dateTime)\n",
    "\n",
    "# Save config information.\n",
    "url_weather = f\"https://api.openweathermap.org/data/2.5/weather?lat={lat}&lon={lon}&appid={weather_api_key}&units={units}\"\n",
    "\n"
   ]
  },
  {
   "cell_type": "code",
   "execution_count": 72,
   "id": "216f39fd-69c3-41b1-a60d-ee5ee4f2c581",
   "metadata": {},
   "outputs": [
    {
     "data": {
      "text/plain": [
       "{'coord': {'lon': -93.2208, 'lat': 44.8817},\n",
       " 'weather': [{'id': 802,\n",
       "   'main': 'Clouds',\n",
       "   'description': 'scattered clouds',\n",
       "   'icon': '03n'}],\n",
       " 'base': 'stations',\n",
       " 'main': {'temp': 25.32,\n",
       "  'feels_like': 25.79,\n",
       "  'temp_min': 24.01,\n",
       "  'temp_max': 26.18,\n",
       "  'pressure': 1006,\n",
       "  'humidity': 72,\n",
       "  'sea_level': 1006,\n",
       "  'grnd_level': 975},\n",
       " 'visibility': 10000,\n",
       " 'wind': {'speed': 5.66, 'deg': 330},\n",
       " 'clouds': {'all': 40},\n",
       " 'dt': 1721096159,\n",
       " 'sys': {'type': 1,\n",
       "  'id': 4984,\n",
       "  'country': 'US',\n",
       "  'sunrise': 1721040075,\n",
       "  'sunset': 1721094969},\n",
       " 'timezone': -18000,\n",
       " 'id': 5037278,\n",
       " 'name': 'Mendota',\n",
       " 'cod': 200}"
      ]
     },
     "execution_count": 72,
     "metadata": {},
     "output_type": "execute_result"
    }
   ],
   "source": [
    "response = requests.get(url_weather).json()\n",
    "    \n",
    "response\n"
   ]
  },
  {
   "cell_type": "code",
   "execution_count": null,
   "id": "b2a68608-36bc-4d7b-b049-e8b899c1dbaa",
   "metadata": {},
   "outputs": [],
   "source": [
    "weather.main\n",
    "weather.description\n",
    "main.pressure\n",
    "weather.visibility\n",
    "main.wind"
   ]
  },
  {
   "cell_type": "code",
   "execution_count": null,
   "id": "5c7a61f7-35b9-48d3-b40b-59e78c8a39e4",
   "metadata": {},
   "outputs": [],
   "source": []
  }
 ],
 "metadata": {
  "kernelspec": {
   "display_name": "Python 3 (ipykernel)",
   "language": "python",
   "name": "python3"
  },
  "language_info": {
   "codemirror_mode": {
    "name": "ipython",
    "version": 3
   },
   "file_extension": ".py",
   "mimetype": "text/x-python",
   "name": "python",
   "nbconvert_exporter": "python",
   "pygments_lexer": "ipython3",
   "version": "3.12.4"
  }
 },
 "nbformat": 4,
 "nbformat_minor": 5
}
