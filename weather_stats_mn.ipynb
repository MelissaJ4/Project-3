{
 "cells": [
  {
   "cell_type": "markdown",
   "id": "16112247-efbc-4760-b836-6c54bc4285aa",
   "metadata": {},
   "source": [
    "# Weather Data Collector"
   ]
  },
  {
   "cell_type": "markdown",
   "id": "b63f8d85-c478-4cec-bae5-2fbd82d1c26b",
   "metadata": {},
   "source": [
    "## Imports"
   ]
  },
  {
   "cell_type": "code",
   "execution_count": 1,
   "id": "e798d073-28ea-4ffe-b52e-b448a86fe6d5",
   "metadata": {},
   "outputs": [],
   "source": [
    "import requests\n",
    "import json\n",
    "from config import weather_api_key\n",
    "import requests\n",
    "import pandas as pd\n",
    "import numpy as np\n",
    "from pprint import pprint\n",
    "from datetime import datetime"
   ]
  },
  {
   "cell_type": "markdown",
   "id": "4ac120af-3423-4a09-8d90-69f2ac3d731d",
   "metadata": {},
   "source": [
    "## weather API setup"
   ]
  },
  {
   "cell_type": "code",
   "execution_count": 2,
   "id": "3da77f15-cc3c-44bc-ba4b-9edfe941212b",
   "metadata": {},
   "outputs": [],
   "source": [
    "# Save API URL string\n",
    "#url_weather = f\"http://api.weatherapi.com/v1/current.json?key={key}&q={q}&aqi=no\"\n",
    "url_weather = f\"http://api.weatherapi.com/v1/current.json?key={weather_api_key}&aqi=no\""
   ]
  },
  {
   "cell_type": "markdown",
   "id": "2e982720-5206-423f-9ee1-e70e2cd98850",
   "metadata": {},
   "source": [
    "## Collect Weather Data"
   ]
  },
  {
   "cell_type": "code",
   "execution_count": 4,
   "id": "80f57f7b-1be2-401c-9075-17f78e7ba3bb",
   "metadata": {},
   "outputs": [
    {
     "name": "stdout",
     "output_type": "stream",
     "text": [
      "2024-07-18 11:15:36.156959\n",
      "{'current': {'cloud': 8,\n",
      "             'condition': {'code': 1000,\n",
      "                           'icon': '//cdn.weatherapi.com/weather/64x64/day/113.png',\n",
      "                           'text': 'Sunny'},\n",
      "             'dewpoint_c': 12.0,\n",
      "             'dewpoint_f': 53.6,\n",
      "             'feelslike_c': 21.8,\n",
      "             'feelslike_f': 71.3,\n",
      "             'gust_kph': 5.8,\n",
      "             'gust_mph': 3.6,\n",
      "             'heatindex_c': 23.2,\n",
      "             'heatindex_f': 73.8,\n",
      "             'humidity': 53,\n",
      "             'is_day': 1,\n",
      "             'last_updated': '2024-07-18 11:00',\n",
      "             'last_updated_epoch': 1721318400,\n",
      "             'precip_in': 0.0,\n",
      "             'precip_mm': 0.0,\n",
      "             'pressure_in': 30.21,\n",
      "             'pressure_mb': 1023.0,\n",
      "             'temp_c': 21.8,\n",
      "             'temp_f': 71.3,\n",
      "             'uv': 6.0,\n",
      "             'vis_km': 10.0,\n",
      "             'vis_miles': 6.0,\n",
      "             'wind_degree': 242,\n",
      "             'wind_dir': 'WSW',\n",
      "             'wind_kph': 5.0,\n",
      "             'wind_mph': 3.1,\n",
      "             'windchill_c': 21.8,\n",
      "             'windchill_f': 71.3},\n",
      " 'location': {'country': 'USA',\n",
      "              'lat': 44.89,\n",
      "              'localtime': '2024-07-18 11:14',\n",
      "              'localtime_epoch': 1721319261,\n",
      "              'lon': -93.19,\n",
      "              'name': 'Saint Paul',\n",
      "              'region': 'Minnesota',\n",
      "              'tz_id': 'America/Chicago'}}\n",
      "{'current': {'cloud': 0,\n",
      "             'condition': {'code': 1000,\n",
      "                           'icon': '//cdn.weatherapi.com/weather/64x64/day/113.png',\n",
      "                           'text': 'Sunny'},\n",
      "             'dewpoint_c': 9.5,\n",
      "             'dewpoint_f': 49.0,\n",
      "             'feelslike_c': 20.5,\n",
      "             'feelslike_f': 69.0,\n",
      "             'gust_kph': 7.9,\n",
      "             'gust_mph': 4.9,\n",
      "             'heatindex_c': 21.6,\n",
      "             'heatindex_f': 70.9,\n",
      "             'humidity': 48,\n",
      "             'is_day': 1,\n",
      "             'last_updated': '2024-07-18 11:00',\n",
      "             'last_updated_epoch': 1721318400,\n",
      "             'precip_in': 0.0,\n",
      "             'precip_mm': 0.0,\n",
      "             'pressure_in': 30.19,\n",
      "             'pressure_mb': 1022.0,\n",
      "             'temp_c': 20.6,\n",
      "             'temp_f': 69.0,\n",
      "             'uv': 6.0,\n",
      "             'vis_km': 10.0,\n",
      "             'vis_miles': 6.0,\n",
      "             'wind_degree': 251,\n",
      "             'wind_dir': 'WSW',\n",
      "             'wind_kph': 6.8,\n",
      "             'wind_mph': 4.3,\n",
      "             'windchill_c': 20.5,\n",
      "             'windchill_f': 69.0},\n",
      " 'location': {'country': 'USA',\n",
      "              'lat': 46.81,\n",
      "              'localtime': '2024-07-18 11:14',\n",
      "              'localtime_epoch': 1721319261,\n",
      "              'lon': -92.18,\n",
      "              'name': 'Duluth',\n",
      "              'region': 'Minnesota',\n",
      "              'tz_id': 'America/Chicago'}}\n",
      "{'current': {'cloud': 10,\n",
      "             'condition': {'code': 1000,\n",
      "                           'icon': '//cdn.weatherapi.com/weather/64x64/day/113.png',\n",
      "                           'text': 'Sunny'},\n",
      "             'dewpoint_c': 13.3,\n",
      "             'dewpoint_f': 55.9,\n",
      "             'feelslike_c': 19.3,\n",
      "             'feelslike_f': 66.7,\n",
      "             'gust_kph': 10.8,\n",
      "             'gust_mph': 6.7,\n",
      "             'heatindex_c': 19.3,\n",
      "             'heatindex_f': 66.7,\n",
      "             'humidity': 67,\n",
      "             'is_day': 1,\n",
      "             'last_updated': '2024-07-18 11:00',\n",
      "             'last_updated_epoch': 1721318400,\n",
      "             'precip_in': 0.0,\n",
      "             'precip_mm': 0.0,\n",
      "             'pressure_in': 30.23,\n",
      "             'pressure_mb': 1024.0,\n",
      "             'temp_c': 19.3,\n",
      "             'temp_f': 66.7,\n",
      "             'uv': 5.0,\n",
      "             'vis_km': 10.0,\n",
      "             'vis_miles': 6.0,\n",
      "             'wind_degree': 4,\n",
      "             'wind_dir': 'N',\n",
      "             'wind_kph': 3.6,\n",
      "             'wind_mph': 2.2,\n",
      "             'windchill_c': 19.3,\n",
      "             'windchill_f': 66.7},\n",
      " 'location': {'country': 'USA',\n",
      "              'lat': 44.0,\n",
      "              'localtime': '2024-07-18 11:14',\n",
      "              'localtime_epoch': 1721319261,\n",
      "              'lon': -92.49,\n",
      "              'name': 'Rochester',\n",
      "              'region': 'Minnesota',\n",
      "              'tz_id': 'America/Chicago'}}\n"
     ]
    }
   ],
   "source": [
    "# Set zipcodes of the airport of interest:\n",
    "# - MSP Terminal #1: 55111\n",
    "# - Duluth: 55811\n",
    "# - Rochester: 55902\n",
    "airport_zipcodes = [55111, 55811, 55902]\n",
    "\n",
    "# Set current time as the timestamp of the API pull\n",
    "current_dateTime = datetime.now()\n",
    "\n",
    "print(current_dateTime)\n",
    "\n",
    "for zipcode in airport_zipcodes:\n",
    "    request_url = f\"{url_weather}&q={zipcode}\"\n",
    "\n",
    "    response = requests.get(request_url).json()\n",
    "    pprint(response)"
   ]
  },
  {
   "cell_type": "code",
   "execution_count": 8,
   "id": "216f39fd-69c3-41b1-a60d-ee5ee4f2c581",
   "metadata": {},
   "outputs": [
    {
     "data": {
      "text/plain": [
       "{'location': {'name': 'Saint Paul',\n",
       "  'region': 'Minnesota',\n",
       "  'country': 'USA',\n",
       "  'lat': 44.89,\n",
       "  'lon': -93.19,\n",
       "  'tz_id': 'America/Chicago',\n",
       "  'localtime_epoch': 1721182763,\n",
       "  'localtime': '2024-07-16 21:19'},\n",
       " 'current': {'last_updated_epoch': 1721182500,\n",
       "  'last_updated': '2024-07-16 21:15',\n",
       "  'temp_c': 23.9,\n",
       "  'temp_f': 75.0,\n",
       "  'is_day': 0,\n",
       "  'condition': {'text': 'Partly cloudy',\n",
       "   'icon': '//cdn.weatherapi.com/weather/64x64/night/116.png',\n",
       "   'code': 1003},\n",
       "  'wind_mph': 9.4,\n",
       "  'wind_kph': 15.1,\n",
       "  'wind_degree': 300,\n",
       "  'wind_dir': 'WNW',\n",
       "  'pressure_mb': 1013.0,\n",
       "  'pressure_in': 29.92,\n",
       "  'precip_mm': 0.0,\n",
       "  'precip_in': 0.0,\n",
       "  'humidity': 48,\n",
       "  'cloud': 50,\n",
       "  'feelslike_c': 25.5,\n",
       "  'feelslike_f': 77.9,\n",
       "  'windchill_c': 19.7,\n",
       "  'windchill_f': 67.4,\n",
       "  'heatindex_c': 20.3,\n",
       "  'heatindex_f': 68.5,\n",
       "  'dewpoint_c': 12.7,\n",
       "  'dewpoint_f': 54.8,\n",
       "  'vis_km': 16.0,\n",
       "  'vis_miles': 9.0,\n",
       "  'uv': 1.0,\n",
       "  'gust_mph': 10.2,\n",
       "  'gust_kph': 16.4}}"
      ]
     },
     "execution_count": 8,
     "metadata": {},
     "output_type": "execute_result"
    }
   ],
   "source": [
    "response = requests.get(url_weather).json()\n",
    "    \n",
    "response\n"
   ]
  },
  {
   "cell_type": "code",
   "execution_count": null,
   "id": "b2a68608-36bc-4d7b-b049-e8b899c1dbaa",
   "metadata": {},
   "outputs": [],
   "source": [
    "# To use for dataframe:\n",
    "    # temp c/f\n",
    "    # condition (text)\n",
    "    # wind (mph/kph)\n",
    "    # wind_degree\n",
    "    # wind_dir\n",
    "    # precip (mm, in)\n",
    "    # cloud\n",
    "    # vis (km/miles)\n",
    "    # gust (mph/kph)"
   ]
  },
  {
   "cell_type": "code",
   "execution_count": null,
   "id": "5c7a61f7-35b9-48d3-b40b-59e78c8a39e4",
   "metadata": {},
   "outputs": [],
   "source": []
  }
 ],
 "metadata": {
  "kernelspec": {
   "display_name": "Python 3 (ipykernel)",
   "language": "python",
   "name": "python3"
  },
  "language_info": {
   "codemirror_mode": {
    "name": "ipython",
    "version": 3
   },
   "file_extension": ".py",
   "mimetype": "text/x-python",
   "name": "python",
   "nbconvert_exporter": "python",
   "pygments_lexer": "ipython3",
   "version": "3.12.4"
  }
 },
 "nbformat": 4,
 "nbformat_minor": 5
}
